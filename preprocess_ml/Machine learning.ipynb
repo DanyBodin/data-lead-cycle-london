{
 "cells": [
  {
   "cell_type": "code",
   "execution_count": 79,
   "metadata": {},
   "outputs": [],
   "source": [
    "import os\n",
    "import pandas as pd\n",
    "import numpy as np\n",
    "\n",
    "from datetime import datetime, timedelta\n",
    "\n",
    "import os\n"
   ]
  },
  {
   "cell_type": "markdown",
   "metadata": {},
   "source": [
    "## Import dataset"
   ]
  },
  {
   "cell_type": "code",
   "execution_count": 80,
   "metadata": {},
   "outputs": [
    {
     "data": {
      "text/html": [
       "<div>\n",
       "<style scoped>\n",
       "    .dataframe tbody tr th:only-of-type {\n",
       "        vertical-align: middle;\n",
       "    }\n",
       "\n",
       "    .dataframe tbody tr th {\n",
       "        vertical-align: top;\n",
       "    }\n",
       "\n",
       "    .dataframe thead th {\n",
       "        text-align: right;\n",
       "    }\n",
       "</style>\n",
       "<table border=\"1\" class=\"dataframe\">\n",
       "  <thead>\n",
       "    <tr style=\"text-align: right;\">\n",
       "      <th></th>\n",
       "      <th>Rental Id</th>\n",
       "      <th>Duration</th>\n",
       "      <th>Bike Id</th>\n",
       "      <th>End Date</th>\n",
       "      <th>EndStation Id</th>\n",
       "      <th>EndStation Name</th>\n",
       "      <th>Start Date</th>\n",
       "      <th>StartStation Id</th>\n",
       "      <th>StartStation Name</th>\n",
       "    </tr>\n",
       "  </thead>\n",
       "  <tbody>\n",
       "    <tr>\n",
       "      <th>0</th>\n",
       "      <td>50754225</td>\n",
       "      <td>240</td>\n",
       "      <td>11834</td>\n",
       "      <td>10/01/2016 00:04</td>\n",
       "      <td>383.0</td>\n",
       "      <td>Frith Street, Soho</td>\n",
       "      <td>10/01/2016 00:00</td>\n",
       "      <td>18</td>\n",
       "      <td>Drury Lane, Covent Garden</td>\n",
       "    </tr>\n",
       "    <tr>\n",
       "      <th>1</th>\n",
       "      <td>50754226</td>\n",
       "      <td>300</td>\n",
       "      <td>9648</td>\n",
       "      <td>10/01/2016 00:05</td>\n",
       "      <td>719.0</td>\n",
       "      <td>Victoria Park Road, Hackney Central</td>\n",
       "      <td>10/01/2016 00:00</td>\n",
       "      <td>479</td>\n",
       "      <td>Pott Street, Bethnal Green</td>\n",
       "    </tr>\n",
       "    <tr>\n",
       "      <th>2</th>\n",
       "      <td>50754227</td>\n",
       "      <td>1200</td>\n",
       "      <td>10689</td>\n",
       "      <td>10/01/2016 00:20</td>\n",
       "      <td>272.0</td>\n",
       "      <td>Baylis Road, Waterloo</td>\n",
       "      <td>10/01/2016 00:00</td>\n",
       "      <td>425</td>\n",
       "      <td>Harrington Square 2, Camden Town</td>\n",
       "    </tr>\n",
       "    <tr>\n",
       "      <th>3</th>\n",
       "      <td>50754228</td>\n",
       "      <td>780</td>\n",
       "      <td>8593</td>\n",
       "      <td>10/01/2016 00:14</td>\n",
       "      <td>471.0</td>\n",
       "      <td>Hewison Street, Old Ford</td>\n",
       "      <td>10/01/2016 00:01</td>\n",
       "      <td>487</td>\n",
       "      <td>Canton Street, Poplar</td>\n",
       "    </tr>\n",
       "    <tr>\n",
       "      <th>4</th>\n",
       "      <td>50754229</td>\n",
       "      <td>600</td>\n",
       "      <td>8619</td>\n",
       "      <td>10/01/2016 00:11</td>\n",
       "      <td>399.0</td>\n",
       "      <td>Brick Lane Market, Shoreditch</td>\n",
       "      <td>10/01/2016 00:01</td>\n",
       "      <td>501</td>\n",
       "      <td>Cephas Street, Bethnal Green</td>\n",
       "    </tr>\n",
       "  </tbody>\n",
       "</table>\n",
       "</div>"
      ],
      "text/plain": [
       "   Rental Id  Duration  Bike Id          End Date  EndStation Id  \\\n",
       "0   50754225       240    11834  10/01/2016 00:04          383.0   \n",
       "1   50754226       300     9648  10/01/2016 00:05          719.0   \n",
       "2   50754227      1200    10689  10/01/2016 00:20          272.0   \n",
       "3   50754228       780     8593  10/01/2016 00:14          471.0   \n",
       "4   50754229       600     8619  10/01/2016 00:11          399.0   \n",
       "\n",
       "                       EndStation Name        Start Date  StartStation Id  \\\n",
       "0                   Frith Street, Soho  10/01/2016 00:00               18   \n",
       "1  Victoria Park Road, Hackney Central  10/01/2016 00:00              479   \n",
       "2                Baylis Road, Waterloo  10/01/2016 00:00              425   \n",
       "3             Hewison Street, Old Ford  10/01/2016 00:01              487   \n",
       "4        Brick Lane Market, Shoreditch  10/01/2016 00:01              501   \n",
       "\n",
       "                  StartStation Name  \n",
       "0         Drury Lane, Covent Garden  \n",
       "1        Pott Street, Bethnal Green  \n",
       "2  Harrington Square 2, Camden Town  \n",
       "3             Canton Street, Poplar  \n",
       "4      Cephas Street, Bethnal Green  "
      ]
     },
     "execution_count": 80,
     "metadata": {},
     "output_type": "execute_result"
    }
   ],
   "source": [
    "path = \"./data/01aJourneyDataExtract10Jan16-23Jan16.csv\"\n",
    "dataset = pd.read_csv(path)\n",
    "dataset.head()"
   ]
  },
  {
   "cell_type": "code",
   "execution_count": 81,
   "metadata": {},
   "outputs": [
    {
     "data": {
      "text/html": [
       "<div>\n",
       "<style scoped>\n",
       "    .dataframe tbody tr th:only-of-type {\n",
       "        vertical-align: middle;\n",
       "    }\n",
       "\n",
       "    .dataframe tbody tr th {\n",
       "        vertical-align: top;\n",
       "    }\n",
       "\n",
       "    .dataframe thead th {\n",
       "        text-align: right;\n",
       "    }\n",
       "</style>\n",
       "<table border=\"1\" class=\"dataframe\">\n",
       "  <thead>\n",
       "    <tr style=\"text-align: right;\">\n",
       "      <th></th>\n",
       "      <th>Rental Id</th>\n",
       "      <th>Duration</th>\n",
       "      <th>Bike Id</th>\n",
       "      <th>End Date</th>\n",
       "      <th>EndStation Id</th>\n",
       "      <th>EndStation Name</th>\n",
       "      <th>Start Date</th>\n",
       "      <th>StartStation Id</th>\n",
       "      <th>StartStation Name</th>\n",
       "    </tr>\n",
       "  </thead>\n",
       "  <tbody>\n",
       "    <tr>\n",
       "      <th>0</th>\n",
       "      <td>50754225</td>\n",
       "      <td>240</td>\n",
       "      <td>11834</td>\n",
       "      <td>00:04:00</td>\n",
       "      <td>383.0</td>\n",
       "      <td>Frith Street, Soho</td>\n",
       "      <td>00:00:00</td>\n",
       "      <td>18</td>\n",
       "      <td>Drury Lane, Covent Garden</td>\n",
       "    </tr>\n",
       "    <tr>\n",
       "      <th>1</th>\n",
       "      <td>50754226</td>\n",
       "      <td>300</td>\n",
       "      <td>9648</td>\n",
       "      <td>00:05:00</td>\n",
       "      <td>719.0</td>\n",
       "      <td>Victoria Park Road, Hackney Central</td>\n",
       "      <td>00:00:00</td>\n",
       "      <td>479</td>\n",
       "      <td>Pott Street, Bethnal Green</td>\n",
       "    </tr>\n",
       "    <tr>\n",
       "      <th>2</th>\n",
       "      <td>50754227</td>\n",
       "      <td>1200</td>\n",
       "      <td>10689</td>\n",
       "      <td>00:20:00</td>\n",
       "      <td>272.0</td>\n",
       "      <td>Baylis Road, Waterloo</td>\n",
       "      <td>00:00:00</td>\n",
       "      <td>425</td>\n",
       "      <td>Harrington Square 2, Camden Town</td>\n",
       "    </tr>\n",
       "    <tr>\n",
       "      <th>3</th>\n",
       "      <td>50754228</td>\n",
       "      <td>780</td>\n",
       "      <td>8593</td>\n",
       "      <td>00:14:00</td>\n",
       "      <td>471.0</td>\n",
       "      <td>Hewison Street, Old Ford</td>\n",
       "      <td>00:01:00</td>\n",
       "      <td>487</td>\n",
       "      <td>Canton Street, Poplar</td>\n",
       "    </tr>\n",
       "    <tr>\n",
       "      <th>4</th>\n",
       "      <td>50754229</td>\n",
       "      <td>600</td>\n",
       "      <td>8619</td>\n",
       "      <td>00:11:00</td>\n",
       "      <td>399.0</td>\n",
       "      <td>Brick Lane Market, Shoreditch</td>\n",
       "      <td>00:01:00</td>\n",
       "      <td>501</td>\n",
       "      <td>Cephas Street, Bethnal Green</td>\n",
       "    </tr>\n",
       "  </tbody>\n",
       "</table>\n",
       "</div>"
      ],
      "text/plain": [
       "   Rental Id  Duration  Bike Id  End Date  EndStation Id  \\\n",
       "0   50754225       240    11834  00:04:00          383.0   \n",
       "1   50754226       300     9648  00:05:00          719.0   \n",
       "2   50754227      1200    10689  00:20:00          272.0   \n",
       "3   50754228       780     8593  00:14:00          471.0   \n",
       "4   50754229       600     8619  00:11:00          399.0   \n",
       "\n",
       "                       EndStation Name Start Date  StartStation Id  \\\n",
       "0                   Frith Street, Soho   00:00:00               18   \n",
       "1  Victoria Park Road, Hackney Central   00:00:00              479   \n",
       "2                Baylis Road, Waterloo   00:00:00              425   \n",
       "3             Hewison Street, Old Ford   00:01:00              487   \n",
       "4        Brick Lane Market, Shoreditch   00:01:00              501   \n",
       "\n",
       "                  StartStation Name  \n",
       "0         Drury Lane, Covent Garden  \n",
       "1        Pott Street, Bethnal Green  \n",
       "2  Harrington Square 2, Camden Town  \n",
       "3             Canton Street, Poplar  \n",
       "4      Cephas Street, Bethnal Green  "
      ]
     },
     "execution_count": 81,
     "metadata": {},
     "output_type": "execute_result"
    }
   ],
   "source": [
    "df = dataset\n",
    "df[['End Date', 'Start Date']] = dataset[['End Date', 'Start Date']].apply(pd.to_datetime, dayfirst=True).apply(lambda x: x.dt.time)\n",
    "df.head()"
   ]
  },
  {
   "cell_type": "code",
   "execution_count": 82,
   "metadata": {},
   "outputs": [],
   "source": [
    "# morning = \"09:00:00\"\n",
    "# evening = \"17:00:00\"\n",
    "# morning_time = datetime.strptime(morning, \"%H:%M:%S\").time()\n",
    "# evening_time = datetime.strptime(evening, \"%H:%M:%S\").time()\n",
    "# print(morning_time, evening_time)"
   ]
  },
  {
   "cell_type": "markdown",
   "metadata": {},
   "source": [
    "## Morning hours"
   ]
  },
  {
   "cell_type": "code",
   "execution_count": 83,
   "metadata": {},
   "outputs": [],
   "source": [
    "# # Calcul de morning_start et morning_end\n",
    "# morning_start = (datetime.combine(datetime.today(), morning_time) - timedelta(hours=1)).time()\n",
    "# morning_end = (datetime.combine(datetime.today(), morning_time) + timedelta(hours=1)).time()\n",
    "\n",
    "# df_morning = df[(df['Start Date'] >= morning_start) & (df['Start Date'] <= morning_end)]\n",
    "# df_morning = df_morning.reset_index(drop=True)\n",
    "# df_morning.head()"
   ]
  },
  {
   "cell_type": "code",
   "execution_count": 84,
   "metadata": {},
   "outputs": [],
   "source": [
    "# # Elimination colones superflues\n",
    "# df_morning = df_morning.drop([\"Duration\",\"Rental Id\", \"End Date\",\"EndStation Id\", \"EndStation Name\"], axis=1)\n",
    "# df_morning.head()"
   ]
  },
  {
   "cell_type": "code",
   "execution_count": 85,
   "metadata": {},
   "outputs": [],
   "source": [
    "# df_morning.columns"
   ]
  },
  {
   "cell_type": "markdown",
   "metadata": {},
   "source": [
    "## Evening hours"
   ]
  },
  {
   "cell_type": "code",
   "execution_count": 86,
   "metadata": {},
   "outputs": [],
   "source": [
    "# # Calcul de evening_start et evening_end\n",
    "# evening_start = (datetime.combine(datetime.today(), evening_time) - timedelta(hours=1)).time()\n",
    "# evening_end = (datetime.combine(datetime.today(), evening_time) + timedelta(hours=1)).time()\n",
    "\n",
    "# df_evening = df[(df['Start Date'] >= evening_start) & (df['Start Date'] <= evening_end)]\n",
    "# df_evening = df_evening.reset_index(drop=True)\n",
    "# df_evening.head()"
   ]
  },
  {
   "cell_type": "code",
   "execution_count": 87,
   "metadata": {},
   "outputs": [],
   "source": [
    "# # Elimination colones superflues\n",
    "# df_evening = df_evening.drop([\"Duration\",\"Rental Id\", \"End Date\",\"EndStation Id\", \"EndStation Name\"], axis=1)\n",
    "# df_evening.head()"
   ]
  },
  {
   "cell_type": "code",
   "execution_count": 88,
   "metadata": {},
   "outputs": [],
   "source": [
    "# print(df_morning.dtypes)"
   ]
  },
  {
   "cell_type": "markdown",
   "metadata": {},
   "source": [
    "# Machine Learning\n",
    "## Morning"
   ]
  },
  {
   "cell_type": "code",
   "execution_count": 90,
   "metadata": {},
   "outputs": [
    {
     "data": {
      "text/html": [
       "<div>\n",
       "<style scoped>\n",
       "    .dataframe tbody tr th:only-of-type {\n",
       "        vertical-align: middle;\n",
       "    }\n",
       "\n",
       "    .dataframe tbody tr th {\n",
       "        vertical-align: top;\n",
       "    }\n",
       "\n",
       "    .dataframe thead th {\n",
       "        text-align: right;\n",
       "    }\n",
       "</style>\n",
       "<table border=\"1\" class=\"dataframe\">\n",
       "  <thead>\n",
       "    <tr style=\"text-align: right;\">\n",
       "      <th></th>\n",
       "      <th>Bike Id</th>\n",
       "      <th>Start Date</th>\n",
       "      <th>StartStation Id</th>\n",
       "      <th>StartStation Name</th>\n",
       "    </tr>\n",
       "  </thead>\n",
       "  <tbody>\n",
       "    <tr>\n",
       "      <th>1193</th>\n",
       "      <td>969</td>\n",
       "      <td>09:16:00</td>\n",
       "      <td>185</td>\n",
       "      <td>Alderney Street, Pimlico</td>\n",
       "    </tr>\n",
       "    <tr>\n",
       "      <th>178542</th>\n",
       "      <td>10131</td>\n",
       "      <td>06:34:00</td>\n",
       "      <td>695</td>\n",
       "      <td>Islington Green, Angel</td>\n",
       "    </tr>\n",
       "    <tr>\n",
       "      <th>200134</th>\n",
       "      <td>64</td>\n",
       "      <td>20:14:00</td>\n",
       "      <td>77</td>\n",
       "      <td>Russell Square Station, Bloomsbury</td>\n",
       "    </tr>\n",
       "    <tr>\n",
       "      <th>49089</th>\n",
       "      <td>12488</td>\n",
       "      <td>16:06:00</td>\n",
       "      <td>281</td>\n",
       "      <td>Smith Square, Westminster</td>\n",
       "    </tr>\n",
       "    <tr>\n",
       "      <th>136103</th>\n",
       "      <td>3599</td>\n",
       "      <td>14:43:00</td>\n",
       "      <td>379</td>\n",
       "      <td>Turquoise Island, Notting Hill</td>\n",
       "    </tr>\n",
       "  </tbody>\n",
       "</table>\n",
       "</div>"
      ],
      "text/plain": [
       "        Bike Id Start Date  StartStation Id  \\\n",
       "1193        969   09:16:00              185   \n",
       "178542    10131   06:34:00              695   \n",
       "200134       64   20:14:00               77   \n",
       "49089     12488   16:06:00              281   \n",
       "136103     3599   14:43:00              379   \n",
       "\n",
       "                         StartStation Name  \n",
       "1193              Alderney Street, Pimlico  \n",
       "178542              Islington Green, Angel  \n",
       "200134  Russell Square Station, Bloomsbury  \n",
       "49089            Smith Square, Westminster  \n",
       "136103      Turquoise Island, Notting Hill  "
      ]
     },
     "execution_count": 90,
     "metadata": {},
     "output_type": "execute_result"
    }
   ],
   "source": [
    "# Echantillon pour mise en place\n",
    " cd\n",
    "df = df.sample(n=10000, random_state=4)\n",
    "df.head()"
   ]
  },
  {
   "cell_type": "code",
   "execution_count": 71,
   "metadata": {},
   "outputs": [],
   "source": []
  },
  {
   "cell_type": "code",
   "execution_count": 74,
   "metadata": {},
   "outputs": [],
   "source": [
    "# X_train, X_test, y_train, y_test = train_test_split(X, y, test_size=0.2, random_state=1)"
   ]
  },
  {
   "cell_type": "code",
   "execution_count": null,
   "metadata": {},
   "outputs": [],
   "source": []
  }
 ],
 "metadata": {
  "kernelspec": {
   "display_name": "base",
   "language": "python",
   "name": "python3"
  },
  "language_info": {
   "codemirror_mode": {
    "name": "ipython",
    "version": 3
   },
   "file_extension": ".py",
   "mimetype": "text/x-python",
   "name": "python",
   "nbconvert_exporter": "python",
   "pygments_lexer": "ipython3",
   "version": "3.11.7"
  }
 },
 "nbformat": 4,
 "nbformat_minor": 2
}
