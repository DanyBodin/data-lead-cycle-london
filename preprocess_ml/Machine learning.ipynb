{
 "cells": [
  {
   "cell_type": "code",
   "execution_count": 160,
   "metadata": {},
   "outputs": [],
   "source": [
    "import os\n",
    "import pandas as pd\n",
    "import numpy as np\n",
    "\n",
    "from datetime import datetime, timedelta\n",
    "\n",
    "from prophet import Prophet\n",
    "from sklearn.metrics import mean_squared_error, mean_absolute_error\n",
    "\n",
    "import plotly.express as px\n",
    "import plotly.graph_objects as go\n",
    "import plotly.io as pio\n",
    "\n",
    "import os\n"
   ]
  },
  {
   "cell_type": "markdown",
   "metadata": {},
   "source": [
    "## Import dataset"
   ]
  },
  {
   "cell_type": "code",
   "execution_count": 161,
   "metadata": {},
   "outputs": [
    {
     "data": {
      "text/html": [
       "<div>\n",
       "<style scoped>\n",
       "    .dataframe tbody tr th:only-of-type {\n",
       "        vertical-align: middle;\n",
       "    }\n",
       "\n",
       "    .dataframe tbody tr th {\n",
       "        vertical-align: top;\n",
       "    }\n",
       "\n",
       "    .dataframe thead th {\n",
       "        text-align: right;\n",
       "    }\n",
       "</style>\n",
       "<table border=\"1\" class=\"dataframe\">\n",
       "  <thead>\n",
       "    <tr style=\"text-align: right;\">\n",
       "      <th></th>\n",
       "      <th>Rental Id</th>\n",
       "      <th>Duration</th>\n",
       "      <th>Bike Id</th>\n",
       "      <th>End Date</th>\n",
       "      <th>EndStation Id</th>\n",
       "      <th>EndStation Name</th>\n",
       "      <th>Start Date</th>\n",
       "      <th>StartStation Id</th>\n",
       "      <th>StartStation Name</th>\n",
       "    </tr>\n",
       "  </thead>\n",
       "  <tbody>\n",
       "    <tr>\n",
       "      <th>0</th>\n",
       "      <td>50754225</td>\n",
       "      <td>240</td>\n",
       "      <td>11834</td>\n",
       "      <td>10/01/2016 00:04</td>\n",
       "      <td>383.0</td>\n",
       "      <td>Frith Street, Soho</td>\n",
       "      <td>10/01/2016 00:00</td>\n",
       "      <td>18</td>\n",
       "      <td>Drury Lane, Covent Garden</td>\n",
       "    </tr>\n",
       "    <tr>\n",
       "      <th>1</th>\n",
       "      <td>50754226</td>\n",
       "      <td>300</td>\n",
       "      <td>9648</td>\n",
       "      <td>10/01/2016 00:05</td>\n",
       "      <td>719.0</td>\n",
       "      <td>Victoria Park Road, Hackney Central</td>\n",
       "      <td>10/01/2016 00:00</td>\n",
       "      <td>479</td>\n",
       "      <td>Pott Street, Bethnal Green</td>\n",
       "    </tr>\n",
       "    <tr>\n",
       "      <th>2</th>\n",
       "      <td>50754227</td>\n",
       "      <td>1200</td>\n",
       "      <td>10689</td>\n",
       "      <td>10/01/2016 00:20</td>\n",
       "      <td>272.0</td>\n",
       "      <td>Baylis Road, Waterloo</td>\n",
       "      <td>10/01/2016 00:00</td>\n",
       "      <td>425</td>\n",
       "      <td>Harrington Square 2, Camden Town</td>\n",
       "    </tr>\n",
       "    <tr>\n",
       "      <th>3</th>\n",
       "      <td>50754228</td>\n",
       "      <td>780</td>\n",
       "      <td>8593</td>\n",
       "      <td>10/01/2016 00:14</td>\n",
       "      <td>471.0</td>\n",
       "      <td>Hewison Street, Old Ford</td>\n",
       "      <td>10/01/2016 00:01</td>\n",
       "      <td>487</td>\n",
       "      <td>Canton Street, Poplar</td>\n",
       "    </tr>\n",
       "    <tr>\n",
       "      <th>4</th>\n",
       "      <td>50754229</td>\n",
       "      <td>600</td>\n",
       "      <td>8619</td>\n",
       "      <td>10/01/2016 00:11</td>\n",
       "      <td>399.0</td>\n",
       "      <td>Brick Lane Market, Shoreditch</td>\n",
       "      <td>10/01/2016 00:01</td>\n",
       "      <td>501</td>\n",
       "      <td>Cephas Street, Bethnal Green</td>\n",
       "    </tr>\n",
       "  </tbody>\n",
       "</table>\n",
       "</div>"
      ],
      "text/plain": [
       "   Rental Id  Duration  Bike Id          End Date  EndStation Id  \\\n",
       "0   50754225       240    11834  10/01/2016 00:04          383.0   \n",
       "1   50754226       300     9648  10/01/2016 00:05          719.0   \n",
       "2   50754227      1200    10689  10/01/2016 00:20          272.0   \n",
       "3   50754228       780     8593  10/01/2016 00:14          471.0   \n",
       "4   50754229       600     8619  10/01/2016 00:11          399.0   \n",
       "\n",
       "                       EndStation Name        Start Date  StartStation Id  \\\n",
       "0                   Frith Street, Soho  10/01/2016 00:00               18   \n",
       "1  Victoria Park Road, Hackney Central  10/01/2016 00:00              479   \n",
       "2                Baylis Road, Waterloo  10/01/2016 00:00              425   \n",
       "3             Hewison Street, Old Ford  10/01/2016 00:01              487   \n",
       "4        Brick Lane Market, Shoreditch  10/01/2016 00:01              501   \n",
       "\n",
       "                  StartStation Name  \n",
       "0         Drury Lane, Covent Garden  \n",
       "1        Pott Street, Bethnal Green  \n",
       "2  Harrington Square 2, Camden Town  \n",
       "3             Canton Street, Poplar  \n",
       "4      Cephas Street, Bethnal Green  "
      ]
     },
     "execution_count": 161,
     "metadata": {},
     "output_type": "execute_result"
    }
   ],
   "source": [
    "path = \"./data/01aJourneyDataExtract10Jan16-23Jan16.csv\"\n",
    "dataset = pd.read_csv(path)\n",
    "dataset.head()"
   ]
  },
  {
   "cell_type": "markdown",
   "metadata": {},
   "source": [
    "# Data cleaning"
   ]
  },
  {
   "cell_type": "code",
   "execution_count": 162,
   "metadata": {},
   "outputs": [
    {
     "data": {
      "text/html": [
       "<div>\n",
       "<style scoped>\n",
       "    .dataframe tbody tr th:only-of-type {\n",
       "        vertical-align: middle;\n",
       "    }\n",
       "\n",
       "    .dataframe tbody tr th {\n",
       "        vertical-align: top;\n",
       "    }\n",
       "\n",
       "    .dataframe thead th {\n",
       "        text-align: right;\n",
       "    }\n",
       "</style>\n",
       "<table border=\"1\" class=\"dataframe\">\n",
       "  <thead>\n",
       "    <tr style=\"text-align: right;\">\n",
       "      <th></th>\n",
       "      <th>Rental Id</th>\n",
       "      <th>Duration</th>\n",
       "      <th>Bike Id</th>\n",
       "      <th>End Date</th>\n",
       "      <th>EndStation Id</th>\n",
       "      <th>EndStation Name</th>\n",
       "      <th>Start Date</th>\n",
       "      <th>StartStation Id</th>\n",
       "      <th>StartStation Name</th>\n",
       "    </tr>\n",
       "  </thead>\n",
       "  <tbody>\n",
       "    <tr>\n",
       "      <th>0</th>\n",
       "      <td>50754225</td>\n",
       "      <td>0 days 04:00:00</td>\n",
       "      <td>11834</td>\n",
       "      <td>2016-01-10</td>\n",
       "      <td>383.0</td>\n",
       "      <td>Frith Street, Soho</td>\n",
       "      <td>2016-01-10</td>\n",
       "      <td>18</td>\n",
       "      <td>Drury Lane, Covent Garden</td>\n",
       "    </tr>\n",
       "    <tr>\n",
       "      <th>1</th>\n",
       "      <td>50754226</td>\n",
       "      <td>0 days 05:00:00</td>\n",
       "      <td>9648</td>\n",
       "      <td>2016-01-10</td>\n",
       "      <td>719.0</td>\n",
       "      <td>Victoria Park Road, Hackney Central</td>\n",
       "      <td>2016-01-10</td>\n",
       "      <td>479</td>\n",
       "      <td>Pott Street, Bethnal Green</td>\n",
       "    </tr>\n",
       "    <tr>\n",
       "      <th>2</th>\n",
       "      <td>50754227</td>\n",
       "      <td>0 days 20:00:00</td>\n",
       "      <td>10689</td>\n",
       "      <td>2016-01-10</td>\n",
       "      <td>272.0</td>\n",
       "      <td>Baylis Road, Waterloo</td>\n",
       "      <td>2016-01-10</td>\n",
       "      <td>425</td>\n",
       "      <td>Harrington Square 2, Camden Town</td>\n",
       "    </tr>\n",
       "    <tr>\n",
       "      <th>3</th>\n",
       "      <td>50754228</td>\n",
       "      <td>0 days 13:00:00</td>\n",
       "      <td>8593</td>\n",
       "      <td>2016-01-10</td>\n",
       "      <td>471.0</td>\n",
       "      <td>Hewison Street, Old Ford</td>\n",
       "      <td>2016-01-10</td>\n",
       "      <td>487</td>\n",
       "      <td>Canton Street, Poplar</td>\n",
       "    </tr>\n",
       "    <tr>\n",
       "      <th>4</th>\n",
       "      <td>50754229</td>\n",
       "      <td>0 days 10:00:00</td>\n",
       "      <td>8619</td>\n",
       "      <td>2016-01-10</td>\n",
       "      <td>399.0</td>\n",
       "      <td>Brick Lane Market, Shoreditch</td>\n",
       "      <td>2016-01-10</td>\n",
       "      <td>501</td>\n",
       "      <td>Cephas Street, Bethnal Green</td>\n",
       "    </tr>\n",
       "  </tbody>\n",
       "</table>\n",
       "</div>"
      ],
      "text/plain": [
       "   Rental Id        Duration  Bike Id   End Date  EndStation Id  \\\n",
       "0   50754225 0 days 04:00:00    11834 2016-01-10          383.0   \n",
       "1   50754226 0 days 05:00:00     9648 2016-01-10          719.0   \n",
       "2   50754227 0 days 20:00:00    10689 2016-01-10          272.0   \n",
       "3   50754228 0 days 13:00:00     8593 2016-01-10          471.0   \n",
       "4   50754229 0 days 10:00:00     8619 2016-01-10          399.0   \n",
       "\n",
       "                       EndStation Name Start Date  StartStation Id  \\\n",
       "0                   Frith Street, Soho 2016-01-10               18   \n",
       "1  Victoria Park Road, Hackney Central 2016-01-10              479   \n",
       "2                Baylis Road, Waterloo 2016-01-10              425   \n",
       "3             Hewison Street, Old Ford 2016-01-10              487   \n",
       "4        Brick Lane Market, Shoreditch 2016-01-10              501   \n",
       "\n",
       "                  StartStation Name  \n",
       "0         Drury Lane, Covent Garden  \n",
       "1        Pott Street, Bethnal Green  \n",
       "2  Harrington Square 2, Camden Town  \n",
       "3             Canton Street, Poplar  \n",
       "4      Cephas Street, Bethnal Green  "
      ]
     },
     "execution_count": 162,
     "metadata": {},
     "output_type": "execute_result"
    }
   ],
   "source": [
    "df = dataset\n",
    "df[['End Date', 'Start Date']] = dataset[['End Date', 'Start Date']].apply(pd.to_datetime, dayfirst=True).apply(lambda x: x.dt.normalize())\n",
    "df['Duration'] = pd.to_timedelta(df['Duration'], unit='m')\n",
    "\n",
    "df.head()"
   ]
  },
  {
   "cell_type": "code",
   "execution_count": 163,
   "metadata": {},
   "outputs": [
    {
     "data": {
      "text/html": [
       "<div>\n",
       "<style scoped>\n",
       "    .dataframe tbody tr th:only-of-type {\n",
       "        vertical-align: middle;\n",
       "    }\n",
       "\n",
       "    .dataframe tbody tr th {\n",
       "        vertical-align: top;\n",
       "    }\n",
       "\n",
       "    .dataframe thead th {\n",
       "        text-align: right;\n",
       "    }\n",
       "</style>\n",
       "<table border=\"1\" class=\"dataframe\">\n",
       "  <thead>\n",
       "    <tr style=\"text-align: right;\">\n",
       "      <th></th>\n",
       "      <th>Duration</th>\n",
       "      <th>Start Date</th>\n",
       "    </tr>\n",
       "  </thead>\n",
       "  <tbody>\n",
       "    <tr>\n",
       "      <th>0</th>\n",
       "      <td>0 days 04:00:00</td>\n",
       "      <td>2016-01-10</td>\n",
       "    </tr>\n",
       "    <tr>\n",
       "      <th>1</th>\n",
       "      <td>0 days 05:00:00</td>\n",
       "      <td>2016-01-10</td>\n",
       "    </tr>\n",
       "    <tr>\n",
       "      <th>2</th>\n",
       "      <td>0 days 20:00:00</td>\n",
       "      <td>2016-01-10</td>\n",
       "    </tr>\n",
       "    <tr>\n",
       "      <th>3</th>\n",
       "      <td>0 days 13:00:00</td>\n",
       "      <td>2016-01-10</td>\n",
       "    </tr>\n",
       "    <tr>\n",
       "      <th>4</th>\n",
       "      <td>0 days 10:00:00</td>\n",
       "      <td>2016-01-10</td>\n",
       "    </tr>\n",
       "  </tbody>\n",
       "</table>\n",
       "</div>"
      ],
      "text/plain": [
       "         Duration Start Date\n",
       "0 0 days 04:00:00 2016-01-10\n",
       "1 0 days 05:00:00 2016-01-10\n",
       "2 0 days 20:00:00 2016-01-10\n",
       "3 0 days 13:00:00 2016-01-10\n",
       "4 0 days 10:00:00 2016-01-10"
      ]
     },
     "execution_count": 163,
     "metadata": {},
     "output_type": "execute_result"
    }
   ],
   "source": [
    "df_time = df[[\"Duration\", \"Start Date\"]]\n",
    "df_time.head()"
   ]
  },
  {
   "cell_type": "markdown",
   "metadata": {},
   "source": [
    "# Feature selection\n",
    "Select duration and date"
   ]
  },
  {
   "cell_type": "code",
   "execution_count": 164,
   "metadata": {},
   "outputs": [
    {
     "data": {
      "text/html": [
       "<div>\n",
       "<style scoped>\n",
       "    .dataframe tbody tr th:only-of-type {\n",
       "        vertical-align: middle;\n",
       "    }\n",
       "\n",
       "    .dataframe tbody tr th {\n",
       "        vertical-align: top;\n",
       "    }\n",
       "\n",
       "    .dataframe thead th {\n",
       "        text-align: right;\n",
       "    }\n",
       "</style>\n",
       "<table border=\"1\" class=\"dataframe\">\n",
       "  <thead>\n",
       "    <tr style=\"text-align: right;\">\n",
       "      <th></th>\n",
       "      <th>Duration</th>\n",
       "      <th>Start Date</th>\n",
       "    </tr>\n",
       "  </thead>\n",
       "  <tbody>\n",
       "    <tr>\n",
       "      <th>219517</th>\n",
       "      <td>0 days 16:00:00</td>\n",
       "      <td>2016-01-20</td>\n",
       "    </tr>\n",
       "    <tr>\n",
       "      <th>58640</th>\n",
       "      <td>1 days 02:00:00</td>\n",
       "      <td>2016-01-13</td>\n",
       "    </tr>\n",
       "    <tr>\n",
       "      <th>31071</th>\n",
       "      <td>0 days 13:00:00</td>\n",
       "      <td>2016-01-11</td>\n",
       "    </tr>\n",
       "    <tr>\n",
       "      <th>10158</th>\n",
       "      <td>1 days 01:00:00</td>\n",
       "      <td>2016-01-10</td>\n",
       "    </tr>\n",
       "    <tr>\n",
       "      <th>163578</th>\n",
       "      <td>1 days 07:00:00</td>\n",
       "      <td>2016-01-18</td>\n",
       "    </tr>\n",
       "  </tbody>\n",
       "</table>\n",
       "</div>"
      ],
      "text/plain": [
       "              Duration Start Date\n",
       "219517 0 days 16:00:00 2016-01-20\n",
       "58640  1 days 02:00:00 2016-01-13\n",
       "31071  0 days 13:00:00 2016-01-11\n",
       "10158  1 days 01:00:00 2016-01-10\n",
       "163578 1 days 07:00:00 2016-01-18"
      ]
     },
     "execution_count": 164,
     "metadata": {},
     "output_type": "execute_result"
    }
   ],
   "source": [
    "df_time = df_time.sample(n=10000, random_state=4)\n",
    "df_time.head()"
   ]
  },
  {
   "cell_type": "code",
   "execution_count": 174,
   "metadata": {},
   "outputs": [
    {
     "data": {
      "text/html": [
       "<div>\n",
       "<style scoped>\n",
       "    .dataframe tbody tr th:only-of-type {\n",
       "        vertical-align: middle;\n",
       "    }\n",
       "\n",
       "    .dataframe tbody tr th {\n",
       "        vertical-align: top;\n",
       "    }\n",
       "\n",
       "    .dataframe thead th {\n",
       "        text-align: right;\n",
       "    }\n",
       "</style>\n",
       "<table border=\"1\" class=\"dataframe\">\n",
       "  <thead>\n",
       "    <tr style=\"text-align: right;\">\n",
       "      <th></th>\n",
       "      <th>y</th>\n",
       "      <th>ds</th>\n",
       "    </tr>\n",
       "  </thead>\n",
       "  <tbody>\n",
       "    <tr>\n",
       "      <th>219517</th>\n",
       "      <td>0 days 16:00:00</td>\n",
       "      <td>2016-01-20</td>\n",
       "    </tr>\n",
       "    <tr>\n",
       "      <th>58640</th>\n",
       "      <td>1 days 02:00:00</td>\n",
       "      <td>2016-01-13</td>\n",
       "    </tr>\n",
       "    <tr>\n",
       "      <th>31071</th>\n",
       "      <td>0 days 13:00:00</td>\n",
       "      <td>2016-01-11</td>\n",
       "    </tr>\n",
       "    <tr>\n",
       "      <th>10158</th>\n",
       "      <td>1 days 01:00:00</td>\n",
       "      <td>2016-01-10</td>\n",
       "    </tr>\n",
       "    <tr>\n",
       "      <th>163578</th>\n",
       "      <td>1 days 07:00:00</td>\n",
       "      <td>2016-01-18</td>\n",
       "    </tr>\n",
       "  </tbody>\n",
       "</table>\n",
       "</div>"
      ],
      "text/plain": [
       "                     y         ds\n",
       "219517 0 days 16:00:00 2016-01-20\n",
       "58640  1 days 02:00:00 2016-01-13\n",
       "31071  0 days 13:00:00 2016-01-11\n",
       "10158  1 days 01:00:00 2016-01-10\n",
       "163578 1 days 07:00:00 2016-01-18"
      ]
     },
     "execution_count": 174,
     "metadata": {},
     "output_type": "execute_result"
    }
   ],
   "source": [
    "df_time = df_time.rename(columns={'Start Date': 'ds', 'Duration': 'y'})\n",
    "df_time.head()"
   ]
  },
  {
   "cell_type": "code",
   "execution_count": 175,
   "metadata": {},
   "outputs": [
    {
     "ename": "AttributeError",
     "evalue": "'Prophet' object has no attribute 'stan_backend'",
     "output_type": "error",
     "traceback": [
      "\u001b[1;31m---------------------------------------------------------------------------\u001b[0m",
      "\u001b[1;31mAttributeError\u001b[0m                            Traceback (most recent call last)",
      "Cell \u001b[1;32mIn[175], line 2\u001b[0m\n\u001b[0;32m      1\u001b[0m \u001b[38;5;66;03m# Initialiser le modèle Prophet\u001b[39;00m\n\u001b[1;32m----> 2\u001b[0m model \u001b[38;5;241m=\u001b[39m Prophet()\n\u001b[0;32m      4\u001b[0m \u001b[38;5;66;03m# Ajuster le modèle sur les données préparées\u001b[39;00m\n\u001b[0;32m      5\u001b[0m model\u001b[38;5;241m.\u001b[39mfit(df_time)\n",
      "File \u001b[1;32mc:\\Users\\vickd\\anaconda3\\Lib\\site-packages\\prophet\\forecaster.py:155\u001b[0m, in \u001b[0;36mProphet.__init__\u001b[1;34m(self, growth, changepoints, n_changepoints, changepoint_range, yearly_seasonality, weekly_seasonality, daily_seasonality, holidays, seasonality_mode, seasonality_prior_scale, holidays_prior_scale, changepoint_prior_scale, mcmc_samples, interval_width, uncertainty_samples, stan_backend, scaling, holidays_mode)\u001b[0m\n\u001b[0;32m    153\u001b[0m \u001b[38;5;28mself\u001b[39m\u001b[38;5;241m.\u001b[39mfit_kwargs \u001b[38;5;241m=\u001b[39m {}\n\u001b[0;32m    154\u001b[0m \u001b[38;5;28mself\u001b[39m\u001b[38;5;241m.\u001b[39mvalidate_inputs()\n\u001b[1;32m--> 155\u001b[0m \u001b[38;5;28mself\u001b[39m\u001b[38;5;241m.\u001b[39m_load_stan_backend(stan_backend)\n",
      "File \u001b[1;32mc:\\Users\\vickd\\anaconda3\\Lib\\site-packages\\prophet\\forecaster.py:168\u001b[0m, in \u001b[0;36mProphet._load_stan_backend\u001b[1;34m(self, stan_backend)\u001b[0m\n\u001b[0;32m    165\u001b[0m \u001b[38;5;28;01melse\u001b[39;00m:\n\u001b[0;32m    166\u001b[0m     \u001b[38;5;28mself\u001b[39m\u001b[38;5;241m.\u001b[39mstan_backend \u001b[38;5;241m=\u001b[39m StanBackendEnum\u001b[38;5;241m.\u001b[39mget_backend_class(stan_backend)()\n\u001b[1;32m--> 168\u001b[0m logger\u001b[38;5;241m.\u001b[39mdebug(\u001b[38;5;124m\"\u001b[39m\u001b[38;5;124mLoaded stan backend: \u001b[39m\u001b[38;5;132;01m%s\u001b[39;00m\u001b[38;5;124m\"\u001b[39m, \u001b[38;5;28mself\u001b[39m\u001b[38;5;241m.\u001b[39mstan_backend\u001b[38;5;241m.\u001b[39mget_type())\n",
      "\u001b[1;31mAttributeError\u001b[0m: 'Prophet' object has no attribute 'stan_backend'"
     ]
    }
   ],
   "source": [
    "# Initialiser le modèle Prophet\n",
    "model = Prophet()\n",
    "\n",
    "# Ajuster le modèle sur les données préparées\n",
    "model.fit(df_time)\n",
    "\n",
    "# Faire des prévisions pour les prochaines périodes\n",
    "future = model.make_future_dataframe(periods=30, freq='D')  # Prédictions pour les 30 prochains jours\n",
    "forecast = model.predict(future)\n",
    "\n",
    "# Afficher les prévisions\n",
    "forecast[['ds', 'yhat', 'yhat_lower', 'yhat_upper']].head()"
   ]
  },
  {
   "cell_type": "code",
   "execution_count": null,
   "metadata": {},
   "outputs": [],
   "source": [
    "# Tracer les prévisions avec Prophet\n",
    "fig = model.plot(forecast)\n",
    "\n",
    "# Afficher le graphique\n",
    "plt.show()"
   ]
  },
  {
   "cell_type": "markdown",
   "metadata": {},
   "source": [
    "# Obsolete\n",
    "-------------------"
   ]
  },
  {
   "cell_type": "code",
   "execution_count": 165,
   "metadata": {},
   "outputs": [],
   "source": [
    "# morning = \"09:00:00\"\n",
    "# evening = \"17:00:00\"\n",
    "# morning_time = datetime.strptime(morning, \"%H:%M:%S\").time()\n",
    "# evening_time = datetime.strptime(evening, \"%H:%M:%S\").time()\n",
    "# print(morning_time, evening_time)"
   ]
  },
  {
   "cell_type": "markdown",
   "metadata": {},
   "source": [
    "## Morning hours"
   ]
  },
  {
   "cell_type": "code",
   "execution_count": 166,
   "metadata": {},
   "outputs": [],
   "source": [
    "# # Calcul de morning_start et morning_end\n",
    "# morning_start = (datetime.combine(datetime.today(), morning_time) - timedelta(hours=1)).time()\n",
    "# morning_end = (datetime.combine(datetime.today(), morning_time) + timedelta(hours=1)).time()\n",
    "\n",
    "# df_morning = df[(df['Start Date'] >= morning_start) & (df['Start Date'] <= morning_end)]\n",
    "# df_morning = df_morning.reset_index(drop=True)\n",
    "# df_morning.head()"
   ]
  },
  {
   "cell_type": "code",
   "execution_count": 167,
   "metadata": {},
   "outputs": [],
   "source": [
    "# # Elimination colones superflues\n",
    "# df_morning = df_morning.drop([\"Duration\",\"Rental Id\", \"End Date\",\"EndStation Id\", \"EndStation Name\"], axis=1)\n",
    "# df_morning.head()"
   ]
  },
  {
   "cell_type": "code",
   "execution_count": 168,
   "metadata": {},
   "outputs": [],
   "source": [
    "# df_morning.columns"
   ]
  },
  {
   "cell_type": "markdown",
   "metadata": {},
   "source": [
    "## Evening hours"
   ]
  },
  {
   "cell_type": "code",
   "execution_count": 169,
   "metadata": {},
   "outputs": [],
   "source": [
    "# # Calcul de evening_start et evening_end\n",
    "# evening_start = (datetime.combine(datetime.today(), evening_time) - timedelta(hours=1)).time()\n",
    "# evening_end = (datetime.combine(datetime.today(), evening_time) + timedelta(hours=1)).time()\n",
    "\n",
    "# df_evening = df[(df['Start Date'] >= evening_start) & (df['Start Date'] <= evening_end)]\n",
    "# df_evening = df_evening.reset_index(drop=True)\n",
    "# df_evening.head()"
   ]
  },
  {
   "cell_type": "code",
   "execution_count": 170,
   "metadata": {},
   "outputs": [],
   "source": [
    "# # Elimination colones superflues\n",
    "# df_evening = df_evening.drop([\"Duration\",\"Rental Id\", \"End Date\",\"EndStation Id\", \"EndStation Name\"], axis=1)\n",
    "# df_evening.head()"
   ]
  },
  {
   "cell_type": "code",
   "execution_count": 171,
   "metadata": {},
   "outputs": [],
   "source": [
    "# print(df_morning.dtypes)"
   ]
  },
  {
   "cell_type": "markdown",
   "metadata": {},
   "source": [
    "# Machine Learning\n",
    "## Morning"
   ]
  },
  {
   "cell_type": "code",
   "execution_count": 172,
   "metadata": {},
   "outputs": [],
   "source": [
    "# X_train, X_test, y_train, y_test = train_test_split(X, y, test_size=0.2, random_state=1)"
   ]
  },
  {
   "cell_type": "code",
   "execution_count": null,
   "metadata": {},
   "outputs": [],
   "source": []
  }
 ],
 "metadata": {
  "kernelspec": {
   "display_name": "base",
   "language": "python",
   "name": "python3"
  },
  "language_info": {
   "codemirror_mode": {
    "name": "ipython",
    "version": 3
   },
   "file_extension": ".py",
   "mimetype": "text/x-python",
   "name": "python",
   "nbconvert_exporter": "python",
   "pygments_lexer": "ipython3",
   "version": "3.11.7"
  }
 },
 "nbformat": 4,
 "nbformat_minor": 2
}
